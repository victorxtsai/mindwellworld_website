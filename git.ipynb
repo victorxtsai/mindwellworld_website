{
 "cells": [
  {
   "cell_type": "markdown",
   "metadata": {},
   "source": [
    "#### Set Up Expo\n",
    "- in the terminal, do: npx expo start -c"
   ]
  },
  {
   "cell_type": "markdown",
   "metadata": {},
   "source": [
    "#### Import Main/Master Branch\n",
    "- to set up new project to link with git, go to cmd (not in vscode) and go to project directory, then do\n",
    "- git init\n",
    "- git remote add origin https://github.com/victorxtsai/mindwell.git\n",
    "- git add -A\n",
    "- git commit -m \"Initial commit\"\n",
    "- git push -u origin master"
   ]
  },
  {
   "cell_type": "code",
   "execution_count": 1,
   "metadata": {},
   "outputs": [
    {
     "name": "stdout",
     "output_type": "stream",
     "text": [
      "On branch Update202410013b_Codespace\n",
      "Your branch is up to date with 'origin/Update202410013b_Codespace'.\n",
      "\n",
      "Changes not staged for commit:\n",
      "  (use \"git add <file>...\" to update what will be committed)\n",
      "  (use \"git restore <file>...\" to discard changes in working directory)\n",
      "\t\u001b[31mmodified:   git.ipynb\u001b[m\n",
      "\n",
      "no changes added to commit (use \"git add\" and/or \"git commit -a\")\n"
     ]
    }
   ],
   "source": [
    "!git status"
   ]
  },
  {
   "cell_type": "code",
   "execution_count": 3,
   "metadata": {},
   "outputs": [
    {
     "name": "stdout",
     "output_type": "stream",
     "text": [
      "error: Your local changes to the following files would be overwritten by checkout:\n",
      "\tgit.ipynb\n",
      "Please commit your changes or stash them before you switch branches.\n",
      "Aborting\n",
      "From https://github.com/victorxtsai/mindwell_website\n",
      " * branch            master     -> FETCH_HEAD\n",
      "Already up to date.\n",
      "On branch Update202410013b_Codespace\n",
      "Your branch is ahead of 'origin/Update202410013b_Codespace' by 2 commits.\n",
      "  (use \"git push\" to publish your local commits)\n",
      "\n",
      "Changes not staged for commit:\n",
      "  (use \"git add <file>...\" to update what will be committed)\n",
      "  (use \"git restore <file>...\" to discard changes in working directory)\n",
      "\t\u001b[31mmodified:   git.ipynb\u001b[m\n",
      "\n",
      "no changes added to commit (use \"git add\" and/or \"git commit -a\")\n"
     ]
    }
   ],
   "source": [
    "# git checkout master: switch to main branch, this makes sure you are on the main branch. If you're already there, it won't make any changes.\n",
    "# git pull origin master: pull the latest changes from the remote main branch, this command will fetch and merge the latest changes from the remote main branch into your local main branch. note that this is a combination of two commands: git fetch origin main followed by git merge origin/main\n",
    "!git checkout master\n",
    "!git pull origin master\n",
    "!git status"
   ]
  },
  {
   "cell_type": "markdown",
   "metadata": {},
   "source": [
    "#### Create New Branch"
   ]
  },
  {
   "cell_type": "code",
   "execution_count": 5,
   "metadata": {},
   "outputs": [
    {
     "name": "stdout",
     "output_type": "stream",
     "text": [
      "Switched to a new branch 'Update20241021_Codespace'\n",
      "Update20241021_Codespace\n"
     ]
    }
   ],
   "source": [
    "\n",
    "# create new branch\n",
    "!git checkout -b Update20241021_Codespace\n",
    "!git branch --show-current"
   ]
  },
  {
   "cell_type": "code",
   "execution_count": 16,
   "metadata": {},
   "outputs": [
    {
     "name": "stdout",
     "output_type": "stream",
     "text": [
      "On branch Update20241021_Codespace\n",
      "Your branch is up to date with 'origin/Update20241021_Codespace'.\n",
      "\n",
      "Changes not staged for commit:\n",
      "  (use \"git add <file>...\" to update what will be committed)\n",
      "  (use \"git restore <file>...\" to discard changes in working directory)\n",
      "\t\u001b[31mmodified:   git.ipynb\u001b[m\n",
      "\t\u001b[31mmodified:   index.html\u001b[m\n",
      "\t\u001b[31mmodified:   privacy.html\u001b[m\n",
      "\n",
      "no changes added to commit (use \"git add\" and/or \"git commit -a\")\n"
     ]
    }
   ],
   "source": [
    "# see changes\n",
    "!git status"
   ]
  },
  {
   "cell_type": "markdown",
   "metadata": {},
   "source": [
    "#### Commit New Branch"
   ]
  },
  {
   "cell_type": "code",
   "execution_count": 15,
   "metadata": {},
   "outputs": [
    {
     "name": "stdout",
     "output_type": "stream",
     "text": [
      "[Update20241021_Codespace 1c0d2f8] Update20241021_Codespace\n",
      " 4 files changed, 22 insertions(+), 17 deletions(-)\n",
      "Enumerating objects: 11, done.\n",
      "Counting objects: 100% (11/11), done.\n",
      "Delta compression using up to 2 threads\n",
      "Compressing objects: 100% (6/6), done.\n",
      "Writing objects: 100% (6/6), 893 bytes | 893.00 KiB/s, done.\n",
      "Total 6 (delta 4), reused 0 (delta 0), pack-reused 0 (from 0)\n",
      "remote: Resolving deltas: 100% (4/4), completed with 4 local objects.\u001b[K\n",
      "To https://github.com/victorxtsai/mindwellworld_website\n",
      "   543be78..1c0d2f8  Update20241021_Codespace -> Update20241021_Codespace\n",
      "branch 'Update20241021_Codespace' set up to track 'origin/Update20241021_Codespace'.\n"
     ]
    }
   ],
   "source": [
    "# stage, commit, push changes\n",
    "# !get add . only stages current directory\n",
    "# !get add -A stages every change\n",
    "!git add -A\n",
    "!git commit -m \"Update20241021_Codespace\"\n",
    "!git push -u origin Update20241021_Codespace"
   ]
  }
 ],
 "metadata": {
  "kernelspec": {
   "display_name": "Python 3",
   "language": "python",
   "name": "python3"
  },
  "language_info": {
   "codemirror_mode": {
    "name": "ipython",
    "version": 3
   },
   "file_extension": ".py",
   "mimetype": "text/x-python",
   "name": "python",
   "nbconvert_exporter": "python",
   "pygments_lexer": "ipython3",
   "version": "3.12.1"
  }
 },
 "nbformat": 4,
 "nbformat_minor": 4
}
